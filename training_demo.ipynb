{
 "cells": [
  {
   "cell_type": "code",
   "execution_count": 2,
   "metadata": {},
   "outputs": [
    {
     "name": "stdout",
     "output_type": "stream",
     "text": [
      "Python version: \n",
      "3.7.10 (default, Jun  4 2021, 14:48:32) \n",
      "[GCC 7.5.0]\n"
     ]
    }
   ],
   "source": [
    "import sys\n",
    "\n",
    "print(\"Python version: \")\n",
    "print(sys.version)\n",
    "\n",
    "if (sys.version_info[0] < 3):\n",
    "    raise Exception(\"ERROR: ML-Agents Toolkit requires Python 3\")"
   ]
  },
  {
   "cell_type": "markdown",
   "metadata": {},
   "source": [
    "# Set up environment"
   ]
  },
  {
   "cell_type": "code",
   "execution_count": 3,
   "metadata": {},
   "outputs": [],
   "source": [
    "# Cloning the ml-agents repo.\n",
    "!git clone --branch release_18 https://github.com/Unity-Technologies/ml-agents.git  > /dev/null 2>&1"
   ]
  },
  {
   "cell_type": "code",
   "execution_count": 9,
   "metadata": {},
   "outputs": [
    {
     "name": "stdout",
     "output_type": "stream",
     "text": [
      "ml-agents  training_demo.ipynb\n"
     ]
    }
   ],
   "source": [
    "!ls"
   ]
  },
  {
   "cell_type": "code",
   "execution_count": 10,
   "metadata": {},
   "outputs": [
    {
     "name": "stdout",
     "output_type": "stream",
     "text": [
      "/root/ml-agents/ml-agents\n",
      "/opt/conda/lib/python3.7/site-packages/secretstorage/dhcrypto.py:16: CryptographyDeprecationWarning: int_from_bytes is deprecated, use int.from_bytes instead\n",
      "  from cryptography.utils import int_from_bytes\n",
      "/opt/conda/lib/python3.7/site-packages/secretstorage/util.py:25: CryptographyDeprecationWarning: int_from_bytes is deprecated, use int.from_bytes instead\n",
      "  from cryptography.utils import int_from_bytes\n",
      "Processing /root/ml-agents/ml-agents\n",
      "  Preparing metadata (setup.py) ... \u001b[?25ldone\n",
      "\u001b[?25hCollecting e\n",
      "  Downloading e-1.4.5.tar.gz (1.8 kB)\n",
      "  Preparing metadata (setup.py) ... \u001b[?25ldone\n",
      "\u001b[?25hCollecting grpcio>=1.11.0\n",
      "  Downloading grpcio-1.43.0-cp37-cp37m-manylinux_2_17_x86_64.manylinux2014_x86_64.whl (4.1 MB)\n",
      "     |████████████████████████████████| 4.1 MB 19.1 MB/s            \n",
      "\u001b[?25hRequirement already satisfied: h5py>=2.9.0 in /opt/conda/lib/python3.7/site-packages (from mlagents==0.27.0) (2.10.0)\n",
      "Collecting mlagents_envs==0.27.0\n",
      "  Downloading mlagents_envs-0.27.0-py3-none-any.whl (75 kB)\n",
      "     |████████████████████████████████| 75 kB 580 kB/s             \n",
      "\u001b[?25hRequirement already satisfied: numpy<2.0,>=1.13.3 in /opt/conda/lib/python3.7/site-packages (from mlagents==0.27.0) (1.20.3)\n",
      "Requirement already satisfied: Pillow>=4.2.1 in /opt/conda/lib/python3.7/site-packages (from mlagents==0.27.0) (8.4.0)\n",
      "Requirement already satisfied: protobuf>=3.6 in /opt/conda/lib/python3.7/site-packages (from mlagents==0.27.0) (3.19.1)\n",
      "Requirement already satisfied: pyyaml>=3.1.0 in /opt/conda/lib/python3.7/site-packages (from mlagents==0.27.0) (6.0)\n",
      "Collecting tensorboard>=1.15\n",
      "  Downloading tensorboard-2.7.0-py3-none-any.whl (5.8 MB)\n",
      "     |████████████████████████████████| 5.8 MB 39.0 MB/s            \n",
      "\u001b[?25hRequirement already satisfied: attrs>=19.3.0 in /opt/conda/lib/python3.7/site-packages (from mlagents==0.27.0) (19.3.0)\n",
      "Collecting torch<1.9.0,>=1.6.0\n",
      "  Downloading torch-1.8.1-cp37-cp37m-manylinux1_x86_64.whl (804.1 MB)\n",
      "     |████████████████████████████████| 804.1 MB 1.4 kB/s             \n",
      "\u001b[?25hCollecting cattrs<1.1.0\n",
      "  Downloading cattrs-1.0.0-py2.py3-none-any.whl (14 kB)\n",
      "Requirement already satisfied: importlib_metadata in /opt/conda/lib/python3.7/site-packages (from mlagents==0.27.0) (1.5.0)\n",
      "Requirement already satisfied: cloudpickle in /opt/conda/lib/python3.7/site-packages (from mlagents_envs==0.27.0->mlagents==0.27.0) (2.0.0)\n",
      "Requirement already satisfied: six>=1.5.2 in /opt/conda/lib/python3.7/site-packages (from grpcio>=1.11.0->mlagents==0.27.0) (1.14.0)\n",
      "Requirement already satisfied: requests<3,>=2.21.0 in /opt/conda/lib/python3.7/site-packages (from tensorboard>=1.15->mlagents==0.27.0) (2.26.0)\n",
      "Requirement already satisfied: setuptools>=41.0.0 in /opt/conda/lib/python3.7/site-packages (from tensorboard>=1.15->mlagents==0.27.0) (59.5.0)\n",
      "Collecting markdown>=2.6.8\n",
      "  Downloading Markdown-3.3.6-py3-none-any.whl (97 kB)\n",
      "     |████████████████████████████████| 97 kB 918 kB/s             \n",
      "\u001b[?25hCollecting google-auth-oauthlib<0.5,>=0.4.1\n",
      "  Downloading google_auth_oauthlib-0.4.6-py2.py3-none-any.whl (18 kB)\n",
      "Collecting absl-py>=0.4\n",
      "  Downloading absl_py-1.0.0-py3-none-any.whl (126 kB)\n",
      "     |████████████████████████████████| 126 kB 73.4 MB/s            \n",
      "\u001b[?25hRequirement already satisfied: werkzeug>=0.11.15 in /opt/conda/lib/python3.7/site-packages (from tensorboard>=1.15->mlagents==0.27.0) (1.0.0)\n",
      "Collecting google-auth<3,>=1.6.3\n",
      "  Downloading google_auth-2.3.3-py2.py3-none-any.whl (155 kB)\n",
      "     |████████████████████████████████| 155 kB 60.8 MB/s            \n",
      "\u001b[?25hCollecting tensorboard-data-server<0.7.0,>=0.6.0\n",
      "  Downloading tensorboard_data_server-0.6.1-py3-none-manylinux2010_x86_64.whl (4.9 MB)\n",
      "     |████████████████████████████████| 4.9 MB 63.9 MB/s            \n",
      "\u001b[?25hRequirement already satisfied: wheel>=0.26 in /opt/conda/lib/python3.7/site-packages (from tensorboard>=1.15->mlagents==0.27.0) (0.34.2)\n",
      "Collecting tensorboard-plugin-wit>=1.6.0\n",
      "  Downloading tensorboard_plugin_wit-1.8.0-py3-none-any.whl (781 kB)\n",
      "     |████████████████████████████████| 781 kB 55.4 MB/s            \n",
      "\u001b[?25hRequirement already satisfied: typing-extensions in /opt/conda/lib/python3.7/site-packages (from torch<1.9.0,>=1.6.0->mlagents==0.27.0) (4.0.1)\n",
      "Requirement already satisfied: zipp>=0.5 in /opt/conda/lib/python3.7/site-packages (from importlib_metadata->mlagents==0.27.0) (2.2.0)\n",
      "Collecting pyasn1-modules>=0.2.1\n",
      "  Downloading pyasn1_modules-0.2.8-py2.py3-none-any.whl (155 kB)\n",
      "     |████████████████████████████████| 155 kB 75.9 MB/s            \n",
      "\u001b[?25hRequirement already satisfied: rsa<5,>=3.1.4 in /opt/conda/lib/python3.7/site-packages (from google-auth<3,>=1.6.3->tensorboard>=1.15->mlagents==0.27.0) (4.8)\n",
      "Collecting cachetools<5.0,>=2.0.0\n",
      "  Downloading cachetools-4.2.4-py3-none-any.whl (10 kB)\n",
      "Collecting requests-oauthlib>=0.7.0\n",
      "  Downloading requests_oauthlib-1.3.0-py2.py3-none-any.whl (23 kB)\n",
      "Collecting importlib_metadata\n",
      "  Downloading importlib_metadata-4.10.0-py3-none-any.whl (17 kB)\n",
      "Requirement already satisfied: idna<4,>=2.5 in /opt/conda/lib/python3.7/site-packages (from requests<3,>=2.21.0->tensorboard>=1.15->mlagents==0.27.0) (2.8)\n",
      "Requirement already satisfied: certifi>=2017.4.17 in /opt/conda/lib/python3.7/site-packages (from requests<3,>=2.21.0->tensorboard>=1.15->mlagents==0.27.0) (2021.10.8)\n",
      "Requirement already satisfied: urllib3<1.27,>=1.21.1 in /opt/conda/lib/python3.7/site-packages (from requests<3,>=2.21.0->tensorboard>=1.15->mlagents==0.27.0) (1.26.7)\n",
      "Requirement already satisfied: charset-normalizer~=2.0.0 in /opt/conda/lib/python3.7/site-packages (from requests<3,>=2.21.0->tensorboard>=1.15->mlagents==0.27.0) (2.0.4)\n",
      "Requirement already satisfied: pyasn1<0.5.0,>=0.4.6 in /opt/conda/lib/python3.7/site-packages (from pyasn1-modules>=0.2.1->google-auth<3,>=1.6.3->tensorboard>=1.15->mlagents==0.27.0) (0.4.8)\n",
      "Collecting oauthlib>=3.0.0\n",
      "  Downloading oauthlib-3.1.1-py2.py3-none-any.whl (146 kB)\n",
      "     |████████████████████████████████| 146 kB 65.8 MB/s            \n",
      "\u001b[?25hBuilding wheels for collected packages: e, mlagents\n",
      "  Building wheel for e (setup.py) ... \u001b[?25ldone\n",
      "\u001b[?25h  Created wheel for e: filename=e-1.4.5-py3-none-any.whl size=2824 sha256=173db01447985642b90eeebf2ade693f21d75080366c6c7a76d7ac8036703930\n",
      "  Stored in directory: /root/.cache/pip/wheels/e7/a3/82/f65b59266f2051cd5220eda28aff73438255c4900054d0eeac\n",
      "  Building wheel for mlagents (setup.py) ... \u001b[?25ldone\n",
      "\u001b[?25h  Created wheel for mlagents: filename=mlagents-0.27.0-py3-none-any.whl size=160488 sha256=8abef34774d8e883f181c88606974cb50607b413e079e73f665dde165683f999\n",
      "  Stored in directory: /root/.cache/pip/wheels/7b/b4/aa/435d2f4f6bdb2365ad5ccf5c29019678dc9a8116d39fc428f4\n",
      "Successfully built e mlagents\n",
      "Installing collected packages: pyasn1-modules, oauthlib, cachetools, requests-oauthlib, importlib-metadata, google-auth, tensorboard-plugin-wit, tensorboard-data-server, markdown, grpcio, google-auth-oauthlib, absl-py, torch, tensorboard, mlagents-envs, cattrs, mlagents, e\n",
      "  Attempting uninstall: importlib-metadata\n",
      "    Found existing installation: importlib-metadata 1.5.0\n",
      "    Uninstalling importlib-metadata-1.5.0:\n",
      "      Successfully uninstalled importlib-metadata-1.5.0\n",
      "\u001b[31mERROR: pip's dependency resolver does not currently take into account all the packages that are installed. This behaviour is the source of the following dependency conflicts.\n",
      "pytest-astropy 0.8.0 requires pytest-cov>=2.0, which is not installed.\n",
      "pytest-astropy 0.8.0 requires pytest-filter-subpackage>=0.1, which is not installed.\n",
      "docker-compose 1.29.2 requires PyYAML<6,>=3.10, but you have pyyaml 6.0 which is incompatible.\u001b[0m\n",
      "Successfully installed absl-py-1.0.0 cachetools-4.2.4 cattrs-1.0.0 e-1.4.5 google-auth-2.3.3 google-auth-oauthlib-0.4.6 grpcio-1.43.0 importlib-metadata-4.10.0 markdown-3.3.6 mlagents-0.27.0 mlagents-envs-0.27.0 oauthlib-3.1.1 pyasn1-modules-0.2.8 requests-oauthlib-1.3.0 tensorboard-2.7.0 tensorboard-data-server-0.6.1 tensorboard-plugin-wit-1.8.0 torch-1.8.1\n",
      "\u001b[33mWARNING: Running pip as the 'root' user can result in broken permissions and conflicting behaviour with the system package manager. It is recommended to use a virtual environment instead: https://pip.pypa.io/warnings/venv\u001b[0m\n"
     ]
    }
   ],
   "source": [
    "%cd /root/ml-agents/ml-agents\n",
    "!pip install e ."
   ]
  },
  {
   "cell_type": "code",
   "execution_count": 11,
   "metadata": {},
   "outputs": [
    {
     "name": "stdout",
     "output_type": "stream",
     "text": [
      "/root/ml-agents/ml-agents-envs\n",
      "/opt/conda/lib/python3.7/site-packages/secretstorage/dhcrypto.py:16: CryptographyDeprecationWarning: int_from_bytes is deprecated, use int.from_bytes instead\n",
      "  from cryptography.utils import int_from_bytes\n",
      "/opt/conda/lib/python3.7/site-packages/secretstorage/util.py:25: CryptographyDeprecationWarning: int_from_bytes is deprecated, use int.from_bytes instead\n",
      "  from cryptography.utils import int_from_bytes\n",
      "Processing /root/ml-agents/ml-agents-envs\n",
      "  Preparing metadata (setup.py) ... \u001b[?25ldone\n",
      "\u001b[?25hRequirement already satisfied: e in /opt/conda/lib/python3.7/site-packages (1.4.5)\n",
      "Requirement already satisfied: cloudpickle in /opt/conda/lib/python3.7/site-packages (from mlagents-envs==0.27.0) (2.0.0)\n",
      "Requirement already satisfied: grpcio>=1.11.0 in /opt/conda/lib/python3.7/site-packages (from mlagents-envs==0.27.0) (1.43.0)\n",
      "Requirement already satisfied: numpy>=1.14.1 in /opt/conda/lib/python3.7/site-packages (from mlagents-envs==0.27.0) (1.20.3)\n",
      "Requirement already satisfied: Pillow>=4.2.1 in /opt/conda/lib/python3.7/site-packages (from mlagents-envs==0.27.0) (8.4.0)\n",
      "Requirement already satisfied: protobuf>=3.6 in /opt/conda/lib/python3.7/site-packages (from mlagents-envs==0.27.0) (3.19.1)\n",
      "Requirement already satisfied: pyyaml>=3.1.0 in /opt/conda/lib/python3.7/site-packages (from mlagents-envs==0.27.0) (6.0)\n",
      "Requirement already satisfied: six>=1.5.2 in /opt/conda/lib/python3.7/site-packages (from grpcio>=1.11.0->mlagents-envs==0.27.0) (1.14.0)\n",
      "Building wheels for collected packages: mlagents-envs\n",
      "  Building wheel for mlagents-envs (setup.py) ... \u001b[?25ldone\n",
      "\u001b[?25h  Created wheel for mlagents-envs: filename=mlagents_envs-0.27.0-py3-none-any.whl size=75883 sha256=f0a6f242155bf4068fdae94cdfe143ee46dd5ec2eaae08b8b9165f8bffc5b2d4\n",
      "  Stored in directory: /root/.cache/pip/wheels/ef/86/05/47e891fb29208297eb3529c9eb93cafbd82d8c897fe3544ee8\n",
      "Successfully built mlagents-envs\n",
      "Installing collected packages: mlagents-envs\n",
      "  Attempting uninstall: mlagents-envs\n",
      "    Found existing installation: mlagents-envs 0.27.0\n",
      "    Uninstalling mlagents-envs-0.27.0:\n",
      "      Successfully uninstalled mlagents-envs-0.27.0\n",
      "Successfully installed mlagents-envs-0.27.0\n",
      "\u001b[33mWARNING: Running pip as the 'root' user can result in broken permissions and conflicting behaviour with the system package manager. It is recommended to use a virtual environment instead: https://pip.pypa.io/warnings/venv\u001b[0m\n"
     ]
    }
   ],
   "source": [
    "%cd /root/ml-agents/ml-agents-envs\n",
    "!pip install e ."
   ]
  },
  {
   "cell_type": "code",
   "execution_count": 18,
   "metadata": {},
   "outputs": [
    {
     "name": "stdout",
     "output_type": "stream",
     "text": [
      "/root\n"
     ]
    }
   ],
   "source": [
    "%cd /root"
   ]
  },
  {
   "cell_type": "code",
   "execution_count": 19,
   "metadata": {},
   "outputs": [
    {
     "name": "stdout",
     "output_type": "stream",
     "text": [
      "ml-agents  training_demo.ipynb\n"
     ]
    }
   ],
   "source": [
    "!ls"
   ]
  },
  {
   "cell_type": "code",
   "execution_count": 20,
   "metadata": {},
   "outputs": [
    {
     "name": "stdout",
     "output_type": "stream",
     "text": [
      "Name: mlagents-envs\n",
      "Version: 0.27.0\n",
      "Summary: Unity Machine Learning Agents Interface\n",
      "Home-page: https://github.com/Unity-Technologies/ml-agents\n",
      "Author: Unity Technologies\n",
      "Author-email: ML-Agents@unity3d.com\n",
      "License: UNKNOWN\n",
      "Location: /opt/conda/lib/python3.7/site-packages\n",
      "Requires: cloudpickle, grpcio, numpy, Pillow, protobuf, pyyaml\n",
      "Required-by: mlagents\n"
     ]
    }
   ],
   "source": [
    "!pip show mlagents_envs"
   ]
  },
  {
   "cell_type": "code",
   "execution_count": 21,
   "metadata": {},
   "outputs": [
    {
     "name": "stdout",
     "output_type": "stream",
     "text": [
      "Name: mlagents\n",
      "Version: 0.27.0\n",
      "Summary: Unity Machine Learning Agents\n",
      "Home-page: https://github.com/Unity-Technologies/ml-agents\n",
      "Author: Unity Technologies\n",
      "Author-email: ML-Agents@unity3d.com\n",
      "License: UNKNOWN\n",
      "Location: /opt/conda/lib/python3.7/site-packages\n",
      "Requires: attrs, cattrs, grpcio, h5py, importlib-metadata, mlagents-envs, numpy, Pillow, protobuf, pyyaml, tensorboard, torch\n",
      "Required-by: \n"
     ]
    }
   ],
   "source": [
    "!pip show mlagents"
   ]
  },
  {
   "cell_type": "code",
   "execution_count": 22,
   "metadata": {},
   "outputs": [
    {
     "name": "stdout",
     "output_type": "stream",
     "text": [
      "Cloning into 'Map_Demo'...\n",
      "remote: Enumerating objects: 2319, done.\u001b[K\n",
      "remote: Counting objects: 100% (463/463), done.\u001b[K\n",
      "remote: Compressing objects: 100% (247/247), done.\u001b[K\n",
      "remote: Total 2319 (delta 210), reused 461 (delta 208), pack-reused 1856\u001b[K\n",
      "Receiving objects: 100% (2319/2319), 177.10 MiB | 27.81 MiB/s, done.\n",
      "Resolving deltas: 100% (909/909), done.\n",
      "Checking out files: 100% (997/997), done.\n"
     ]
    }
   ],
   "source": [
    "!git clone https://github.com/waflol/Map_Demo.git"
   ]
  },
  {
   "cell_type": "markdown",
   "metadata": {},
   "source": [
    "# CREATE CONFIG.YAML"
   ]
  },
  {
   "cell_type": "code",
   "execution_count": 23,
   "metadata": {},
   "outputs": [
    {
     "name": "stdout",
     "output_type": "stream",
     "text": [
      "Writing config.yaml\n"
     ]
    }
   ],
   "source": [
    "%%writefile config.yaml\n",
    "behaviors:\n",
    "  ArcadeDriver:\n",
    "  #KartAgent:\n",
    "    trainer_type: ppo\n",
    "    hyperparameters:\n",
    "      batch_size: 1024\n",
    "      buffer_size: 10240\n",
    "      learning_rate: 2.0e-4\n",
    "      beta: 5.0e-4\n",
    "      epsilon: 0.2\n",
    "      lambd: 0.95\n",
    "      num_epoch: 3\n",
    "      learning_rate_schedule: linear\n",
    "    network_settings:\n",
    "      normalize: false\n",
    "      hidden_units: 128\n",
    "      num_layers: 2\n",
    "      memory_size: 256\n",
    "      sequence_length: 64\n",
    "      use_recurrent: false\n",
    "      vis_encode_type: simple\n",
    "    reward_signals:\n",
    "        extrinsic:\n",
    "            strength: 1.0\n",
    "            gamma: 0.99\n",
    "    max_steps: 5000\n",
    "    time_horizon: 64\n",
    "    summary_freq: 1000"
   ]
  },
  {
   "cell_type": "code",
   "execution_count": 24,
   "metadata": {},
   "outputs": [
    {
     "name": "stdout",
     "output_type": "stream",
     "text": [
      "behaviors:\n",
      "  ArcadeDriver:\n",
      "  #KartAgent:\n",
      "    trainer_type: ppo\n",
      "    hyperparameters:\n",
      "      batch_size: 1024\n",
      "      buffer_size: 10240\n",
      "      learning_rate: 2.0e-4\n",
      "      beta: 5.0e-4\n",
      "      epsilon: 0.2\n",
      "      lambd: 0.95\n",
      "      num_epoch: 3\n",
      "      learning_rate_schedule: linear\n",
      "    network_settings:\n",
      "      normalize: false\n",
      "      hidden_units: 128\n",
      "      num_layers: 2\n",
      "      memory_size: 256\n",
      "      sequence_length: 64\n",
      "      use_recurrent: false\n",
      "      vis_encode_type: simple\n",
      "    reward_signals:\n",
      "        extrinsic:\n",
      "            strength: 1.0\n",
      "            gamma: 0.99\n",
      "    max_steps: 5000\n",
      "    time_horizon: 64\n",
      "    summary_freq: 1000\n"
     ]
    }
   ],
   "source": [
    "cat config.yaml"
   ]
  },
  {
   "cell_type": "markdown",
   "metadata": {},
   "source": [
    "# PROVIDE PERMISSION"
   ]
  },
  {
   "cell_type": "code",
   "execution_count": 25,
   "metadata": {},
   "outputs": [
    {
     "name": "stdout",
     "output_type": "stream",
     "text": [
      "Map_Demo  config.yaml  ml-agents  training_demo.ipynb\n"
     ]
    }
   ],
   "source": [
    "!ls"
   ]
  },
  {
   "cell_type": "code",
   "execution_count": 26,
   "metadata": {},
   "outputs": [
    {
     "name": "stdout",
     "output_type": "stream",
     "text": [
      "total 111392\n",
      "-rw-r--r-- 1 root root    16064 Dec 21 09:28 LinuxPlayer_s.debug\n",
      "-rwxr-xr-x 1 root root    15032 Dec 21 09:28 TrainingA.x86_64\n",
      "drwxr-xr-x 6 root root     6144 Dec 21 09:28 TrainingA_Data\n",
      "-rwxr-xr-x 1 root root 48203224 Dec 21 09:28 UnityPlayer.so\n",
      "-rw-r--r-- 1 root root 65822600 Dec 21 09:28 UnityPlayer_s.debug\n"
     ]
    }
   ],
   "source": [
    "!chmod -R 755 /root/Map_Demo/TrainingA/linux/TrainingA.x86_64\n",
    "!chmod -R 755 /root/Map_Demo/TrainingA/linux/UnityPlayer.so\n",
    "!ls -l /root/Map_Demo/TrainingA/linux"
   ]
  },
  {
   "cell_type": "code",
   "execution_count": 27,
   "metadata": {},
   "outputs": [],
   "source": [
    "# Set the Environment name and its Run Id\n",
    "env_path = \"/root/Map_Demo/TrainingA/linux/TrainingA.x86_64\""
   ]
  },
  {
   "cell_type": "code",
   "execution_count": 28,
   "metadata": {},
   "outputs": [
    {
     "name": "stdout",
     "output_type": "stream",
     "text": [
      "\n",
      "\n",
      "                        ▄▄▄▓▓▓▓\n",
      "                   ╓▓▓▓▓▓▓█▓▓▓▓▓\n",
      "              ,▄▄▄m▀▀▀'  ,▓▓▓▀▓▓▄                           ▓▓▓  ▓▓▌\n",
      "            ▄▓▓▓▀'      ▄▓▓▀  ▓▓▓      ▄▄     ▄▄ ,▄▄ ▄▄▄▄   ,▄▄ ▄▓▓▌▄ ▄▄▄    ,▄▄\n",
      "          ▄▓▓▓▀        ▄▓▓▀   ▐▓▓▌     ▓▓▌   ▐▓▓ ▐▓▓▓▀▀▀▓▓▌ ▓▓▓ ▀▓▓▌▀ ^▓▓▌  ╒▓▓▌\n",
      "        ▄▓▓▓▓▓▄▄▄▄▄▄▄▄▓▓▓      ▓▀      ▓▓▌   ▐▓▓ ▐▓▓    ▓▓▓ ▓▓▓  ▓▓▌   ▐▓▓▄ ▓▓▌\n",
      "        ▀▓▓▓▓▀▀▀▀▀▀▀▀▀▀▓▓▄     ▓▓      ▓▓▌   ▐▓▓ ▐▓▓    ▓▓▓ ▓▓▓  ▓▓▌    ▐▓▓▐▓▓\n",
      "          ^█▓▓▓        ▀▓▓▄   ▐▓▓▌     ▓▓▓▓▄▓▓▓▓ ▐▓▓    ▓▓▓ ▓▓▓  ▓▓▓▄    ▓▓▓▓`\n",
      "            '▀▓▓▓▄      ^▓▓▓  ▓▓▓       └▀▀▀▀ ▀▀ ^▀▀    `▀▀ `▀▀   '▀▀    ▐▓▓▌\n",
      "               ▀▀▀▀▓▄▄▄   ▓▓▓▓▓▓,                                      ▓▓▓▓▀\n",
      "                   `▀█▓▓▓▓▓▓▓▓▓▌\n",
      "                        ¬`▀▀▀█▓\n",
      "\n",
      "        \n",
      " Version information:\n",
      "  ml-agents: 0.27.0,\n",
      "  ml-agents-envs: 0.27.0,\n",
      "  Communicator API: 1.5.0,\n",
      "  PyTorch: 1.8.1+cu102\n",
      "[INFO] Connected to Unity environment with package version 2.1.0-exp.1 and communication version 1.5.0\n",
      "[INFO] Connected new brain: ArcadeDriver?team=0\n",
      "[INFO] Hyperparameters for behavior name ArcadeDriver: \n",
      "\ttrainer_type:\tppo\n",
      "\thyperparameters:\t\n",
      "\t  batch_size:\t1024\n",
      "\t  buffer_size:\t10240\n",
      "\t  learning_rate:\t0.0002\n",
      "\t  beta:\t0.0005\n",
      "\t  epsilon:\t0.2\n",
      "\t  lambd:\t0.95\n",
      "\t  num_epoch:\t3\n",
      "\t  learning_rate_schedule:\tlinear\n",
      "\tnetwork_settings:\t\n",
      "\t  normalize:\tFalse\n",
      "\t  hidden_units:\t128\n",
      "\t  num_layers:\t2\n",
      "\t  vis_encode_type:\tsimple\n",
      "\t  memory:\tNone\n",
      "\t  goal_conditioning_type:\thyper\n",
      "\treward_signals:\t\n",
      "\t  extrinsic:\t\n",
      "\t    gamma:\t0.99\n",
      "\t    strength:\t1.0\n",
      "\t    network_settings:\t\n",
      "\t      normalize:\tFalse\n",
      "\t      hidden_units:\t128\n",
      "\t      num_layers:\t2\n",
      "\t      vis_encode_type:\tsimple\n",
      "\t      memory:\tNone\n",
      "\t      goal_conditioning_type:\thyper\n",
      "\tinit_path:\tNone\n",
      "\tkeep_checkpoints:\t5\n",
      "\tcheckpoint_interval:\t500000\n",
      "\tmax_steps:\t5000\n",
      "\ttime_horizon:\t64\n",
      "\tsummary_freq:\t1000\n",
      "\tthreaded:\tFalse\n",
      "\tself_play:\tNone\n",
      "\tbehavioral_cloning:\tNone\n",
      "[INFO] ArcadeDriver. Step: 1000. Time Elapsed: 8.950 s. Mean Reward: 98.723. Std of Reward: 61.837. Training.\n",
      "[INFO] ArcadeDriver. Step: 2000. Time Elapsed: 12.286 s. Mean Reward: 105.849. Std of Reward: 61.837. Training.\n",
      "[INFO] ArcadeDriver. Step: 3000. Time Elapsed: 15.331 s. Mean Reward: 93.877. Std of Reward: 36.677. Training.\n",
      "[INFO] ArcadeDriver. Step: 4000. Time Elapsed: 18.721 s. Mean Reward: 88.392. Std of Reward: 43.256. Training.\n",
      "[INFO] ArcadeDriver. Step: 5000. Time Elapsed: 21.991 s. Mean Reward: 91.229. Std of Reward: 50.051. Training.\n",
      "[INFO] Exported results/trainingA_1/ArcadeDriver/ArcadeDriver-5053.onnx\n",
      "[INFO] Copied results/trainingA_1/ArcadeDriver/ArcadeDriver-5053.onnx to results/trainingA_1/ArcadeDriver.onnx.\n"
     ]
    }
   ],
   "source": [
    "!mlagents-learn config.yaml --run-id=\"trainingA_1\" --env=$env_path --no-graphics"
   ]
  }
 ],
 "metadata": {
  "instance_type": "ml.t3.medium",
  "kernelspec": {
   "display_name": "Python 3 (Data Science)",
   "language": "python",
   "name": "python3__SAGEMAKER_INTERNAL__arn:aws:sagemaker:us-east-1:081325390199:image/datascience-1.0"
  },
  "language_info": {
   "codemirror_mode": {
    "name": "ipython",
    "version": 3
   },
   "file_extension": ".py",
   "mimetype": "text/x-python",
   "name": "python",
   "nbconvert_exporter": "python",
   "pygments_lexer": "ipython3",
   "version": "3.7.10"
  }
 },
 "nbformat": 4,
 "nbformat_minor": 4
}
